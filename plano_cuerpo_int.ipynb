{
  "nbformat": 4,
  "nbformat_minor": 0,
  "metadata": {
    "colab": {
      "provenance": []
    },
    "kernelspec": {
      "name": "python3",
      "display_name": "Python 3"
    },
    "language_info": {
      "name": "python"
    }
  },
  "cells": [
    {
      "cell_type": "code",
      "execution_count": null,
      "metadata": {
        "id": "3xbXrFYV8ivU"
      },
      "outputs": [],
      "source": [
        "!pip install pillow ipywidgets matplotlib --quiet"
      ]
    },
    {
      "cell_type": "code",
      "source": [
        "import numpy as np\n",
        "from PIL import Image\n",
        "import matplotlib.pyplot as plt\n",
        "from ipywidgets import interact, FloatSlider\n",
        "import cmath\n",
        "from math import pi, cos, sin"
      ],
      "metadata": {
        "id": "SGN60UIU_L8F"
      },
      "execution_count": null,
      "outputs": []
    },
    {
      "cell_type": "code",
      "source": [
        "# ============================\n",
        "# PARÁMETROS DE CONFIGURACIÓN\n",
        "# ============================\n",
        "\n",
        "re_min, re_max = -2, 5\n",
        "im_min, im_max = -2, 2\n",
        "ancho, alto = 700, 400\n",
        "max_iter = 500\n",
        "eps = 1e-3\n",
        "esc = 1/eps\n",
        "\n",
        "# ============================\n",
        "# FUNCIONES DEL MÉTODO\n",
        "# ============================\n",
        "\n",
        "def O_p(z, alpha):\n",
        "    num = z**3 * (z - 2*(alpha - 1))\n",
        "    den = 1 - 2*z*(alpha - 1)\n",
        "    if abs(den) < 1e-10:\n",
        "        return 1e10\n",
        "    return num / den\n",
        "\n",
        "def puntos_fijos_extras(alpha):\n",
        "    raiz = cmath.sqrt(4*alpha**2 - 12*alpha + 5)\n",
        "    s1 = (2*alpha - 3 - raiz) / 2\n",
        "    s2 = (2*alpha - 3 + raiz) / 2\n",
        "    return s1, s2\n",
        "\n",
        "def iterar(z0, alpha):\n",
        "    z = z0\n",
        "    s1, s2 = puntos_fijos_extras(alpha)\n",
        "    for _ in range(max_iter):\n",
        "        if abs(z) < eps:\n",
        "            return 255, 40, 40     # rojo\n",
        "        elif abs(z - s1) < eps:\n",
        "            return 200, 200, 20    # amarillo\n",
        "        elif abs(z - s2) < eps:\n",
        "            return 50, 150, 50     # verde\n",
        "        elif abs(z) > esc:\n",
        "            return 80, 80, 255     # azul\n",
        "        z = O_p(z, alpha)\n",
        "    return 0, 0, 0\n",
        "\n",
        "\n",
        "# ============================\n",
        "# FUNCIÓN PARA DIBUJAR EL PLANO\n",
        "# ============================\n",
        "\n",
        "# Parámetros del disco D_2\n",
        "center = 3\n",
        "radius = 0.5\n",
        "\n",
        "def generar_imagen(alpha_real, alpha_imag):\n",
        "    alpha = complex(alpha_real, alpha_imag)\n",
        "    distancia = abs(alpha - center)\n",
        "\n",
        "    # Verificar posición de alpha respecto al disco D_2\n",
        "    if distancia < radius:\n",
        "        mensaje = f\"α = {alpha.real:.3f} + {alpha.imag:.3f}i está DENTRO del disco D_2.\"\n",
        "    elif abs(distancia - radius) < 1e-10:  # tolerancia para igualdad\n",
        "        mensaje = f\"α = {alpha.real:.3f} + {alpha.imag:.3f}i está EN la circunferencia de D_2.\"\n",
        "    else:\n",
        "        mensaje = f\"α = {alpha.real:.3f} + {alpha.imag:.3f}i está FUERA del disco D_2.\"\n",
        "\n",
        "    # Mostrar mensaje\n",
        "    plt.figure(figsize=(8, 1))\n",
        "    plt.text(0.5, 0.5, mensaje,\n",
        "             horizontalalignment='center', verticalalignment='center', fontsize=14)\n",
        "    plt.axis('off')\n",
        "    plt.show()\n",
        "\n",
        "    img = Image.new(\"RGB\", (ancho, alto))\n",
        "    pixels = img.load()\n",
        "\n",
        "    for x in range(ancho):\n",
        "        for y in range(alto):\n",
        "            re = re_min + (x / ancho) * (re_max - re_min)\n",
        "            im = im_max - (y / alto) * (im_max - im_min)\n",
        "            z0 = complex(re, im)\n",
        "            pixels[x, y] = iterar(z0, alpha)\n",
        "\n",
        "    plt.figure(figsize=(8, 5))\n",
        "    plt.imshow(img)\n",
        "    plt.axis('off')\n",
        "    plt.title(f\"Plano dinámico para α = {alpha.real:.2f} + {alpha.imag:.2f}i\")\n",
        "    plt.show()"
      ],
      "metadata": {
        "id": "1HflUAaA-wup"
      },
      "execution_count": null,
      "outputs": []
    },
    {
      "cell_type": "code",
      "source": [
        "# ============================\n",
        "# INTERFAZ INTERACTIVA\n",
        "# ============================\n",
        "\n",
        "interact(\n",
        "    generar_imagen,\n",
        "    alpha_real=FloatSlider(min= -0.4, max = 4.5, step=0.01, value=center, description='Parte real'),\n",
        "    alpha_imag=FloatSlider(min=-2, max=2, step=0.01, value=0, description='Parte imaginaria')\n",
        ")"
      ],
      "metadata": {
        "id": "FU-ledRP-18B"
      },
      "execution_count": null,
      "outputs": []
    },
    {
      "cell_type": "code",
      "source": [],
      "metadata": {
        "id": "xQijNBTTPCZ7"
      },
      "execution_count": null,
      "outputs": []
    }
  ]
}
{
  "nbformat": 4,
  "nbformat_minor": 0,
  "metadata": {
    "colab": {
      "provenance": []
    },
    "kernelspec": {
      "name": "python3",
      "display_name": "Python 3"
    },
    "language_info": {
      "name": "python"
    },
    "widgets": {
      "application/vnd.jupyter.widget-state+json": {
        "077f7be84060461bb66e878f06bf35e4": {
          "model_module": "@jupyter-widgets/controls",
          "model_name": "VBoxModel",
          "model_module_version": "1.5.0",
          "state": {
            "_dom_classes": [
              "widget-interact"
            ],
            "_model_module": "@jupyter-widgets/controls",
            "_model_module_version": "1.5.0",
            "_model_name": "VBoxModel",
            "_view_count": null,
            "_view_module": "@jupyter-widgets/controls",
            "_view_module_version": "1.5.0",
            "_view_name": "VBoxView",
            "box_style": "",
            "children": [
              "IPY_MODEL_301364a2f39846eba3c8f53113bf70cc",
              "IPY_MODEL_f73c25facfe24c6fa8066f701d246c53",
              "IPY_MODEL_a45025747f474b60a1ec2e8d1fbde8fe"
            ],
            "layout": "IPY_MODEL_c2dade97b8dc4c40b7812590bc8312e6"
          }
        },
        "301364a2f39846eba3c8f53113bf70cc": {
          "model_module": "@jupyter-widgets/controls",
          "model_name": "FloatSliderModel",
          "model_module_version": "1.5.0",
          "state": {
            "_dom_classes": [],
            "_model_module": "@jupyter-widgets/controls",
            "_model_module_version": "1.5.0",
            "_model_name": "FloatSliderModel",
            "_view_count": null,
            "_view_module": "@jupyter-widgets/controls",
            "_view_module_version": "1.5.0",
            "_view_name": "FloatSliderView",
            "continuous_update": true,
            "description": "Parte real",
            "description_tooltip": null,
            "disabled": false,
            "layout": "IPY_MODEL_583c49e1274c4180a6cc9d3271bf84ff",
            "max": 4.5,
            "min": -0.4,
            "orientation": "horizontal",
            "readout": true,
            "readout_format": ".2f",
            "step": 0.01,
            "style": "IPY_MODEL_c82b967de565465f9886b9208800f615",
            "value": 1
          }
        },
        "f73c25facfe24c6fa8066f701d246c53": {
          "model_module": "@jupyter-widgets/controls",
          "model_name": "FloatSliderModel",
          "model_module_version": "1.5.0",
          "state": {
            "_dom_classes": [],
            "_model_module": "@jupyter-widgets/controls",
            "_model_module_version": "1.5.0",
            "_model_name": "FloatSliderModel",
            "_view_count": null,
            "_view_module": "@jupyter-widgets/controls",
            "_view_module_version": "1.5.0",
            "_view_name": "FloatSliderView",
            "continuous_update": true,
            "description": "Parte imaginaria",
            "description_tooltip": null,
            "disabled": false,
            "layout": "IPY_MODEL_87f40d1531ee496fa483ae2d8dfe70f7",
            "max": 2,
            "min": -2,
            "orientation": "horizontal",
            "readout": true,
            "readout_format": ".2f",
            "step": 0.01,
            "style": "IPY_MODEL_5c7f3476177d420fb90cb429b33332ce",
            "value": 0.13
          }
        },
        "a45025747f474b60a1ec2e8d1fbde8fe": {
          "model_module": "@jupyter-widgets/output",
          "model_name": "OutputModel",
          "model_module_version": "1.0.0",
          "state": {
            "_dom_classes": [],
            "_model_module": "@jupyter-widgets/output",
            "_model_module_version": "1.0.0",
            "_model_name": "OutputModel",
            "_view_count": null,
            "_view_module": "@jupyter-widgets/output",
            "_view_module_version": "1.0.0",
            "_view_name": "OutputView",
            "layout": "IPY_MODEL_faeda22e4cca42dd90a29fea87a6d161",
            "msg_id": "",
            "outputs": [
              {
                "output_type": "display_data",
                "data": {
                  "text/plain": "<Figure size 745x100 with 1 Axes>",
                  "image/png": "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\n"
                },
                "metadata": {}
              },
              {
                "output_type": "display_data",
                "data": {
                  "text/plain": "<Figure size 800x500 with 1 Axes>",
                  "image/png": "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\n"
                },
                "metadata": {}
              }
            ]
          }
        },
        "c2dade97b8dc4c40b7812590bc8312e6": {
          "model_module": "@jupyter-widgets/base",
          "model_name": "LayoutModel",
          "model_module_version": "1.2.0",
          "state": {
            "_model_module": "@jupyter-widgets/base",
            "_model_module_version": "1.2.0",
            "_model_name": "LayoutModel",
            "_view_count": null,
            "_view_module": "@jupyter-widgets/base",
            "_view_module_version": "1.2.0",
            "_view_name": "LayoutView",
            "align_content": null,
            "align_items": null,
            "align_self": null,
            "border": null,
            "bottom": null,
            "display": null,
            "flex": null,
            "flex_flow": null,
            "grid_area": null,
            "grid_auto_columns": null,
            "grid_auto_flow": null,
            "grid_auto_rows": null,
            "grid_column": null,
            "grid_gap": null,
            "grid_row": null,
            "grid_template_areas": null,
            "grid_template_columns": null,
            "grid_template_rows": null,
            "height": null,
            "justify_content": null,
            "justify_items": null,
            "left": null,
            "margin": null,
            "max_height": null,
            "max_width": null,
            "min_height": null,
            "min_width": null,
            "object_fit": null,
            "object_position": null,
            "order": null,
            "overflow": null,
            "overflow_x": null,
            "overflow_y": null,
            "padding": null,
            "right": null,
            "top": null,
            "visibility": null,
            "width": null
          }
        },
        "583c49e1274c4180a6cc9d3271bf84ff": {
          "model_module": "@jupyter-widgets/base",
          "model_name": "LayoutModel",
          "model_module_version": "1.2.0",
          "state": {
            "_model_module": "@jupyter-widgets/base",
            "_model_module_version": "1.2.0",
            "_model_name": "LayoutModel",
            "_view_count": null,
            "_view_module": "@jupyter-widgets/base",
            "_view_module_version": "1.2.0",
            "_view_name": "LayoutView",
            "align_content": null,
            "align_items": null,
            "align_self": null,
            "border": null,
            "bottom": null,
            "display": null,
            "flex": null,
            "flex_flow": null,
            "grid_area": null,
            "grid_auto_columns": null,
            "grid_auto_flow": null,
            "grid_auto_rows": null,
            "grid_column": null,
            "grid_gap": null,
            "grid_row": null,
            "grid_template_areas": null,
            "grid_template_columns": null,
            "grid_template_rows": null,
            "height": null,
            "justify_content": null,
            "justify_items": null,
            "left": null,
            "margin": null,
            "max_height": null,
            "max_width": null,
            "min_height": null,
            "min_width": null,
            "object_fit": null,
            "object_position": null,
            "order": null,
            "overflow": null,
            "overflow_x": null,
            "overflow_y": null,
            "padding": null,
            "right": null,
            "top": null,
            "visibility": null,
            "width": null
          }
        },
        "c82b967de565465f9886b9208800f615": {
          "model_module": "@jupyter-widgets/controls",
          "model_name": "SliderStyleModel",
          "model_module_version": "1.5.0",
          "state": {
            "_model_module": "@jupyter-widgets/controls",
            "_model_module_version": "1.5.0",
            "_model_name": "SliderStyleModel",
            "_view_count": null,
            "_view_module": "@jupyter-widgets/base",
            "_view_module_version": "1.2.0",
            "_view_name": "StyleView",
            "description_width": "",
            "handle_color": null
          }
        },
        "87f40d1531ee496fa483ae2d8dfe70f7": {
          "model_module": "@jupyter-widgets/base",
          "model_name": "LayoutModel",
          "model_module_version": "1.2.0",
          "state": {
            "_model_module": "@jupyter-widgets/base",
            "_model_module_version": "1.2.0",
            "_model_name": "LayoutModel",
            "_view_count": null,
            "_view_module": "@jupyter-widgets/base",
            "_view_module_version": "1.2.0",
            "_view_name": "LayoutView",
            "align_content": null,
            "align_items": null,
            "align_self": null,
            "border": null,
            "bottom": null,
            "display": null,
            "flex": null,
            "flex_flow": null,
            "grid_area": null,
            "grid_auto_columns": null,
            "grid_auto_flow": null,
            "grid_auto_rows": null,
            "grid_column": null,
            "grid_gap": null,
            "grid_row": null,
            "grid_template_areas": null,
            "grid_template_columns": null,
            "grid_template_rows": null,
            "height": null,
            "justify_content": null,
            "justify_items": null,
            "left": null,
            "margin": null,
            "max_height": null,
            "max_width": null,
            "min_height": null,
            "min_width": null,
            "object_fit": null,
            "object_position": null,
            "order": null,
            "overflow": null,
            "overflow_x": null,
            "overflow_y": null,
            "padding": null,
            "right": null,
            "top": null,
            "visibility": null,
            "width": null
          }
        },
        "5c7f3476177d420fb90cb429b33332ce": {
          "model_module": "@jupyter-widgets/controls",
          "model_name": "SliderStyleModel",
          "model_module_version": "1.5.0",
          "state": {
            "_model_module": "@jupyter-widgets/controls",
            "_model_module_version": "1.5.0",
            "_model_name": "SliderStyleModel",
            "_view_count": null,
            "_view_module": "@jupyter-widgets/base",
            "_view_module_version": "1.2.0",
            "_view_name": "StyleView",
            "description_width": "",
            "handle_color": null
          }
        },
        "faeda22e4cca42dd90a29fea87a6d161": {
          "model_module": "@jupyter-widgets/base",
          "model_name": "LayoutModel",
          "model_module_version": "1.2.0",
          "state": {
            "_model_module": "@jupyter-widgets/base",
            "_model_module_version": "1.2.0",
            "_model_name": "LayoutModel",
            "_view_count": null,
            "_view_module": "@jupyter-widgets/base",
            "_view_module_version": "1.2.0",
            "_view_name": "LayoutView",
            "align_content": null,
            "align_items": null,
            "align_self": null,
            "border": null,
            "bottom": null,
            "display": null,
            "flex": null,
            "flex_flow": null,
            "grid_area": null,
            "grid_auto_columns": null,
            "grid_auto_flow": null,
            "grid_auto_rows": null,
            "grid_column": null,
            "grid_gap": null,
            "grid_row": null,
            "grid_template_areas": null,
            "grid_template_columns": null,
            "grid_template_rows": null,
            "height": null,
            "justify_content": null,
            "justify_items": null,
            "left": null,
            "margin": null,
            "max_height": null,
            "max_width": null,
            "min_height": null,
            "min_width": null,
            "object_fit": null,
            "object_position": null,
            "order": null,
            "overflow": null,
            "overflow_x": null,
            "overflow_y": null,
            "padding": null,
            "right": null,
            "top": null,
            "visibility": null,
            "width": null
          }
        }
      }
    }
  },
  "cells": [
    {
      "cell_type": "code",
      "execution_count": 1,
      "metadata": {
        "id": "3xbXrFYV8ivU",
        "outputId": "8fcbf213-9f07-47d0-b66e-61065a6d1b53",
        "colab": {
          "base_uri": "https://localhost:8080/"
        }
      },
      "outputs": [
        {
          "output_type": "stream",
          "name": "stdout",
          "text": [
            "\u001b[?25l   \u001b[90m━━━━━━━━━━━━━━━━━━━━━━━━━━━━━━━━━━━━━━━━\u001b[0m \u001b[32m0.0/1.6 MB\u001b[0m \u001b[31m?\u001b[0m eta \u001b[36m-:--:--\u001b[0m\r\u001b[2K   \u001b[91m━━━━━━━━━━━━━━━━━━━━━━━━━━━━━━━━━━━\u001b[0m\u001b[91m╸\u001b[0m\u001b[90m━━━━\u001b[0m \u001b[32m1.4/1.6 MB\u001b[0m \u001b[31m41.3 MB/s\u001b[0m eta \u001b[36m0:00:01\u001b[0m\r\u001b[2K   \u001b[90m━━━━━━━━━━━━━━━━━━━━━━━━━━━━━━━━━━━━━━━━\u001b[0m \u001b[32m1.6/1.6 MB\u001b[0m \u001b[31m24.7 MB/s\u001b[0m eta \u001b[36m0:00:00\u001b[0m\n",
            "\u001b[?25h"
          ]
        }
      ],
      "source": [
        "!pip install pillow ipywidgets matplotlib --quiet"
      ]
    },
    {
      "cell_type": "code",
      "source": [
        "import numpy as np\n",
        "from PIL import Image\n",
        "import matplotlib.pyplot as plt\n",
        "from ipywidgets import interact, FloatSlider"
      ],
      "metadata": {
        "id": "SGN60UIU_L8F"
      },
      "execution_count": 2,
      "outputs": []
    },
    {
      "cell_type": "code",
      "source": [
        "# ============================\n",
        "# PARÁMETROS DE CONFIGURACIÓN\n",
        "# ============================\n",
        "\n",
        "re_min, re_max = -2, 4\n",
        "im_min, im_max = -2, 2\n",
        "ancho, alto = 600, 400\n",
        "max_iter = 150\n",
        "eps = 1e-4\n",
        "esc = 1/eps\n",
        "\n",
        "# ============================\n",
        "# FUNCIONES DEL MÉTODO\n",
        "# ============================\n",
        "\n",
        "def O_p(z, alpha):\n",
        "    num = z**3 * (z - 2*(alpha - 1))\n",
        "    den = 1 - 2*z*(alpha - 1)\n",
        "    if abs(den) < 1e-10:\n",
        "        return 1e10\n",
        "    return num / den\n",
        "\n",
        "def iterar(z0, alpha):\n",
        "    z = z0\n",
        "    for i in range(max_iter):\n",
        "        if abs(z) < eps:\n",
        "            return 255, 40, 40     # rojo\n",
        "        elif abs(z - 1) < eps:\n",
        "            return 80, 255, 80     # verde\n",
        "        elif abs(z) > esc:\n",
        "            return 80, 80, 255     # azul\n",
        "        z = O_p(z, alpha)\n",
        "    return 0, 0, 0\n",
        "\n",
        "\n",
        "# ============================\n",
        "# FUNCIÓN PARA DIBUJAR EL PLANO\n",
        "# ============================\n",
        "\n",
        "# Parámetros del disco\n",
        "center = 13/6\n",
        "radius = 1/3\n",
        "\n",
        "\n",
        "def generar_imagen(alpha_real, alpha_imag):\n",
        "    alpha = complex(alpha_real, alpha_imag)\n",
        "    distancia = abs(alpha - center)\n",
        "\n",
        "    # Verificar posición de alpha respecto al disco D_1\n",
        "    if distancia < radius:\n",
        "        mensaje = f\"α = {alpha.real:.3f} + {alpha.imag:.3f}i está DENTRO del disco D_1.\"\n",
        "    elif abs(distancia - radius) < 1e-10:  # tolerancia para igualdad\n",
        "        mensaje = f\"α = {alpha.real:.3f} + {alpha.imag:.3f}i está EN la circunferencia de D_1.\"\n",
        "    else:\n",
        "        mensaje = f\"α = {alpha.real:.3f} + {alpha.imag:.3f}i está FUERA del disco D_1.\"\n",
        "\n",
        "    # Mostrar mensaje\n",
        "    plt.figure(figsize=(7.45, 1))\n",
        "    plt.text(0.5, 0.5, mensaje,\n",
        "             horizontalalignment='center', verticalalignment='center', fontsize=14)\n",
        "    plt.axis('off')\n",
        "    plt.show()\n",
        "\n",
        "    img = Image.new(\"RGB\", (ancho, alto))\n",
        "    pixels = img.load()\n",
        "\n",
        "    for x in range(ancho):\n",
        "        for y in range(alto):\n",
        "            re = re_min + (x / ancho) * (re_max - re_min)\n",
        "            im = im_max - (y / alto) * (im_max - im_min)\n",
        "            z0 = complex(re, im)\n",
        "            pixels[x, y] = iterar(z0, alpha)\n",
        "\n",
        "    plt.figure(figsize=(8, 5))\n",
        "    plt.imshow(img)\n",
        "    plt.axis('off')\n",
        "    plt.title(f\"Plano dinámico para α = {alpha.real:.2f} + {alpha.imag:.2f}i\")\n",
        "    plt.show()"
      ],
      "metadata": {
        "id": "1HflUAaA-wup"
      },
      "execution_count": 5,
      "outputs": []
    },
    {
      "cell_type": "markdown",
      "source": [
        "### INTERFAZ INTERACTIVA"
      ],
      "metadata": {
        "id": "68uIxYxCi8a1"
      }
    },
    {
      "cell_type": "code",
      "source": [
        "interact(\n",
        "    generar_imagen,\n",
        "    alpha_real=FloatSlider(min= -0.4, max = 4.5, step=0.01, value=2, description='Parte real'),\n",
        "    alpha_imag=FloatSlider(min=-2, max=2, step=0.01, value=0, description='Parte imaginaria')\n",
        ")"
      ],
      "metadata": {
        "colab": {
          "base_uri": "https://localhost:8080/",
          "height": 691,
          "referenced_widgets": [
            "077f7be84060461bb66e878f06bf35e4",
            "301364a2f39846eba3c8f53113bf70cc",
            "f73c25facfe24c6fa8066f701d246c53",
            "a45025747f474b60a1ec2e8d1fbde8fe",
            "c2dade97b8dc4c40b7812590bc8312e6",
            "583c49e1274c4180a6cc9d3271bf84ff",
            "c82b967de565465f9886b9208800f615",
            "87f40d1531ee496fa483ae2d8dfe70f7",
            "5c7f3476177d420fb90cb429b33332ce",
            "faeda22e4cca42dd90a29fea87a6d161"
          ]
        },
        "id": "FU-ledRP-18B",
        "outputId": "2218ed1c-1d88-4361-f454-76c3f776e951"
      },
      "execution_count": 6,
      "outputs": [
        {
          "output_type": "display_data",
          "data": {
            "text/plain": [
              "interactive(children=(FloatSlider(value=2.0, description='Parte real', max=4.5, min=-0.4, step=0.01), FloatSli…"
            ],
            "application/vnd.jupyter.widget-view+json": {
              "version_major": 2,
              "version_minor": 0,
              "model_id": "077f7be84060461bb66e878f06bf35e4"
            }
          },
          "metadata": {}
        },
        {
          "output_type": "execute_result",
          "data": {
            "text/plain": [
              "<function __main__.generar_imagen(alpha_real, alpha_imag)>"
            ],
            "text/html": [
              "<div style=\"max-width:800px; border: 1px solid var(--colab-border-color);\"><style>\n",
              "      pre.function-repr-contents {\n",
              "        overflow-x: auto;\n",
              "        padding: 8px 12px;\n",
              "        max-height: 500px;\n",
              "      }\n",
              "\n",
              "      pre.function-repr-contents.function-repr-contents-collapsed {\n",
              "        cursor: pointer;\n",
              "        max-height: 100px;\n",
              "      }\n",
              "    </style>\n",
              "    <pre style=\"white-space: initial; background:\n",
              "         var(--colab-secondary-surface-color); padding: 8px 12px;\n",
              "         border-bottom: 1px solid var(--colab-border-color);\"><b>generar_imagen</b><br/>def generar_imagen(alpha_real, alpha_imag)</pre><pre class=\"function-repr-contents function-repr-contents-collapsed\" style=\"\"><a class=\"filepath\" style=\"display:none\" href=\"#\">/tmp/ipython-input-5-1803647994.py</a>&lt;no docstring&gt;</pre></div>"
            ]
          },
          "metadata": {},
          "execution_count": 6
        }
      ]
    },
    {
      "cell_type": "code",
      "source": [],
      "metadata": {
        "id": "o64o9N7_MYNN"
      },
      "execution_count": 4,
      "outputs": []
    }
  ]
}